{
 "cells": [
  {
   "cell_type": "code",
   "execution_count": 2,
   "metadata": {
    "collapsed": true
   },
   "outputs": [],
   "source": [
    "import numpy as np"
   ]
  },
  {
   "cell_type": "markdown",
   "metadata": {},
   "source": [
    "<img src=\"img.png\">"
   ]
  },
  {
   "cell_type": "code",
   "execution_count": 3,
   "metadata": {
    "collapsed": true
   },
   "outputs": [],
   "source": [
    "# np.random.rand(Принимающий, отдающий)\n",
    "#\n",
    "wih = np.random.rand(5, 2)"
   ]
  },
  {
   "cell_type": "code",
   "execution_count": 4,
   "metadata": {},
   "outputs": [
    {
     "data": {
      "text/plain": [
       "array([[ 0.31160276,  0.26335614],\n",
       "       [ 0.88117404,  0.86411833],\n",
       "       [ 0.73283188,  0.82707012],\n",
       "       [ 0.12645887,  0.50400642],\n",
       "       [ 0.76452095,  0.32603236]])"
      ]
     },
     "execution_count": 4,
     "metadata": {},
     "output_type": "execute_result"
    }
   ],
   "source": [
    "wih"
   ]
  },
  {
   "cell_type": "code",
   "execution_count": 5,
   "metadata": {},
   "outputs": [],
   "source": [
    "who = np.random.rand(2, 5)"
   ]
  },
  {
   "cell_type": "code",
   "execution_count": 6,
   "metadata": {},
   "outputs": [
    {
     "data": {
      "text/plain": [
       "array([[ 0.57341892,  0.92716501,  0.52092447,  0.37691588,  0.79102033],\n",
       "       [ 0.0954275 ,  0.09720801,  0.66652143,  0.10618895,  0.6945082 ]])"
      ]
     },
     "execution_count": 6,
     "metadata": {},
     "output_type": "execute_result"
    }
   ],
   "source": [
    "who"
   ]
  },
  {
   "cell_type": "code",
   "execution_count": 10,
   "metadata": {
    "collapsed": true
   },
   "outputs": [],
   "source": [
    "x = np.array([0.5, 0.3], ndmin=2).T\n",
    "af = lambda x: 1 / (1 + np.exp(-x))"
   ]
  },
  {
   "cell_type": "code",
   "execution_count": 12,
   "metadata": {},
   "outputs": [
    {
     "name": "stdout",
     "output_type": "stream",
     "text": [
      "[[ 0.23480822]\n",
      " [ 0.69982252]\n",
      " [ 0.61453697]\n",
      " [ 0.21443136]\n",
      " [ 0.48007018]]\n",
      "[[ 0.55843382]\n",
      " [ 0.66814842]\n",
      " [ 0.64897505]\n",
      " [ 0.55340337]\n",
      " [ 0.61776445]]\n"
     ]
    }
   ],
   "source": [
    "hidden_i = np.dot(wih, x)\n",
    "print(hidden_i)\n",
    "hidden_o = af(hidden_i)\n",
    "print(hidden_o)\n"
   ]
  },
  {
   "cell_type": "code",
   "execution_count": 14,
   "metadata": {},
   "outputs": [
    {
     "name": "stdout",
     "output_type": "stream",
     "text": [
      "[[ 1.97501809]\n",
      " [ 1.03860291]]\n",
      "[[ 0.87814909]\n",
      " [ 0.73858035]]\n"
     ]
    }
   ],
   "source": [
    "final_i = np.dot(who, hidden_o)\n",
    "print(final_i)\n",
    "final_o = af(final_i)\n",
    "print(final_o)"
   ]
  },
  {
   "cell_type": "code",
   "execution_count": null,
   "metadata": {
    "collapsed": true
   },
   "outputs": [],
   "source": []
  }
 ],
 "metadata": {
  "kernelspec": {
   "display_name": "Python 3",
   "language": "python",
   "name": "python3"
  },
  "language_info": {
   "codemirror_mode": {
    "name": "ipython",
    "version": 3
   },
   "file_extension": ".py",
   "mimetype": "text/x-python",
   "name": "python",
   "nbconvert_exporter": "python",
   "pygments_lexer": "ipython3",
   "version": "3.6.3"
  }
 },
 "nbformat": 4,
 "nbformat_minor": 2
}
